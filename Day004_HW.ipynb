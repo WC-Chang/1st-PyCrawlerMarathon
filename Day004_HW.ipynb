{
 "nbformat": 4,
 "nbformat_minor": 2,
 "metadata": {
  "language_info": {
   "name": "python",
   "codemirror_mode": {
    "name": "ipython",
    "version": 3
   },
   "version": "3.7.4"
  },
  "orig_nbformat": 2,
  "file_extension": ".py",
  "mimetype": "text/x-python",
  "name": "python",
  "npconvert_exporter": "python",
  "pygments_lexer": "ipython3",
  "version": 3
 },
 "cells": [
  {
   "cell_type": "code",
   "execution_count": 10,
   "metadata": {},
   "outputs": [
    {
     "name": "stdout",
     "output_type": "stream",
     "text": "{\"success\":true,\"result\":{\"resource_id\":\"301110000A-000009-002\",\"limit\":2000,\"total\":23,\"fields\":[{\"type\":\"text\",\"id\":\"unit\"},{\"type\":\"text\",\"id\":\"tel\"},{\"type\":\"text\",\"id\":\"fax\"},{\"type\":\"text\",\"id\":\"add\"},{\"type\":\"text\",\"id\":\"web\"}],\"records\":[{\"unit\":\"單位\",\"tel\":\"電 話\",\"fax\":\"傳 真\",\"add\":\"地 址\",\"web\":\"網址\"},{\"unit\":\"新北市政府民政局\",\"tel\":\"02-29603456\",\"fax\":\"02-29693894\",\"add\":\"新北市板橋區中山路1段161號11、14樓\",\"web\":\"http://www.ca.ntpc.gov.tw/\"},{\"unit\":\"臺北市政府兵役局\",\"tel\":\"02-23654361\",\"fax\":\"02-23673072\",\"add\":\"臺北市中正區羅斯福路四段92號9樓\",\"web\":\"http://www.tcdms.taipei.gov.tw/\"},{\"unit\":\"臺中市政府民政局\",\"tel\":\"04-22289111\",\"fax\":\"04-22202480\",\"add\":\"臺中市臺中港路2段89號6樓\",\"web\":\"http://www.civil.taichung.gov.tw/\"},{\"unit\":\"臺南市政府民政局\",\"tel\":\"06-2991111\",\"fax\":\"06-2982560\",\"add\":\"臺南市安平區永華路2段6號\",\"web\":\"http://www.tainan.gov.tw/agr/default.asp\"},{\"unit\":\"高雄市政府兵役局\",\"tel\":\"07-3373582\",\"fax\":\"07-3312241\",\"add\":\"高雄市苓雅區四維3路2號4樓\",\"web\":\"http://mildp.kcg.gov.tw/index.php\"},{\"unit\":\"宜蘭縣政府民政處\",\"tel\":\"03-9251000#1680\",\"fax\":\"03-9332434\",\"add\":\"宜蘭縣宜蘭市縣政北路1號3樓\",\"web\":\"http://civil.e-land.gov.tw/releaseRedirect.do?unitID=102&pageID=9297\"},{\"unit\":\"桃園縣政府民政局\",\"tel\":\"03-3322101\",\"fax\":\"03-3364817\",\"add\":\"桃園縣桃園市縣府路1號\",\"web\":\"http://cab.tycg.gov.tw/\"},{\"unit\":\"新竹縣政府民政處\",\"tel\":\"03-5518101#268\",\"fax\":\"03-5513672\",\"add\":\"新竹縣竹北市光明六路10號\",\"web\":\"http://web.hsinchu.gov.tw/civil/\"},{\"unit\":\"苗栗縣政府民政處\",\"tel\":\"037-322150\",\"fax\":\"037-354593\",\"add\":\"苗栗縣苗栗市縣府路100號\",\"web\":\"http://www.miaoli.gov.tw/civil_affairs/index.php\"},{\"unit\":\"彰化縣政府民政處\",\"tel\":\"04-7222151#0122\",\"fax\":\"04-7293510\",\"add\":\"彰化縣彰化市中山路二段416號7樓\",\"web\":\"http://www.chcg.gov.tw/civil/00home/index1.asp\"},{\"unit\":\"南投縣政府民政處\",\"tel\":\"049-2222106\",\"fax\":\"049-2238404\",\"add\":\"南投縣南投市中興路660號\",\"web\":\"http://www.nantou.gov.tw/big5/index.asp?dptid=376480000AU100000\"},{\"unit\":\"雲林縣政府民政處\",\"tel\":\"05-5322154\",\"fax\":\"05-5352041\",\"add\":\"雲林縣斗六市雲林路二段515號\",\"web\":\"http://www4.yunlin.gov.tw/civil/\"},{\"unit\":\"嘉義縣政府民政處\",\"tel\":\"05-3620123#460\",\"fax\":\"05-3620399\",\"add\":\"嘉義縣太保市祥和新村祥和一路東段1號\",\"web\":\"http://www1.cyhg.gov.tw/civil/chinese/\"},{\"unit\":\"屏東縣政府民政處\",\"tel\":\"08-7324147\",\"fax\":\"08-7331538\",\"add\":\"屏東縣屏東市自由路527號\",\"web\":\"http://www.pthg.gov.tw/plancab/Index.aspx\"},{\"unit\":\"臺東縣政府民政處\",\"tel\":\"089-326141\",\"fax\":\"089-340560\",\"add\":\"台東縣台東市中山路276號\",\"web\":\"http://www.taitung.gov.tw/Civil/index.aspx\"},{\"unit\":\"花蓮縣政府民政處\",\"tel\":\"03-8232047\",\"fax\":\"03-8230576\",\"add\":\"花蓮縣花蓮市府後路6號\",\"web\":\"http://ca.hl.gov.tw/bin/home.php\"},{\"unit\":\"澎湖縣政府民政處\",\"tel\":\"06-9274400\",\"fax\":\"06-9274701\",\"add\":\"澎湖縣馬公市治平路32號\",\"web\":\"http://www.penghu.gov.tw/civil/\"},{\"unit\":\"基隆市政府民政處\",\"tel\":\"02-24201122\",\"fax\":\"02-24668739\",\"add\":\"基隆市中正區正信路205號2樓\",\"web\":\"http://www.klcg.gov.tw/civil/\"},{\"unit\":\"新竹市政府民政處\",\"tel\":\"03-5216121#314\",\"fax\":\"03-5214703\",\"add\":\"新竹市中正路120號\",\"web\":\"http://dep-civil.hccg.gov.tw/web/Home?FP=1064\"},{\"unit\":\"嘉義市政府民政處\",\"tel\":\"05-2254321\",\"fax\":\"05-2259885\",\"add\":\"嘉義市中山路199號\",\"web\":\"http://www.chiayi.gov.tw/web/civil/index.asp\"},{\"unit\":\"金門縣政府民政局\",\"tel\":\"082-325753\",\"fax\":\"082-322613\",\"add\":\"金門縣金城鎮民生路60號\",\"web\":\"http://www.kinmen.gov.tw/Layout/sub_A/index.aspx?frame=3\"},{\"unit\":\"連江縣政府民政局\",\"tel\":\"0836-22485\",\"fax\":\"0836-22209\",\"add\":\"連江縣南竿鄉介壽村76號\",\"web\":\"http://www.matsu.gov.tw/2008web/governor_index.php?id=civilaffairbureau\"}]}}\n<class 'str'>\n"
    }
   ],
   "source": [
    "import requests\n",
    "# r.text 為字串\n",
    "r=requests.get(\"https://od.moi.gov.tw/api/v1/rest/datastore/301110000A-000009-002\")\n",
    "r.text\n",
    "print(r.text)\n",
    "print(type(r.text))"
   ]
  },
  {
   "cell_type": "code",
   "execution_count": 8,
   "metadata": {},
   "outputs": [
    {
     "name": "stdout",
     "output_type": "stream",
     "text": "<class 'dict'>\n"
    }
   ],
   "source": [
    "import json\n",
    "# json.loads(r.text) 為列表\n",
    "json.loads(r.text)\n",
    "print(type(json.loads(r.text)))"
   ]
  },
  {
   "cell_type": "code",
   "execution_count": 9,
   "metadata": {},
   "outputs": [
    {
     "data": {
      "text/plain": "{'success': True,\n 'result': {'resource_id': '301110000A-000009-002',\n  'limit': 2000,\n  'total': 23,\n  'fields': [{'type': 'text', 'id': 'unit'},\n   {'type': 'text', 'id': 'tel'},\n   {'type': 'text', 'id': 'fax'},\n   {'type': 'text', 'id': 'add'},\n   {'type': 'text', 'id': 'web'}],\n  'records': [{'unit': '單位',\n    'tel': '電 話',\n    'fax': '傳 真',\n    'add': '地 址',\n    'web': '網址'},\n   {'unit': '新北市政府民政局',\n    'tel': '02-29603456',\n    'fax': '02-29693894',\n    'add': '新北市板橋區中山路1段161號11、14樓',\n    'web': 'http://www.ca.ntpc.gov.tw/'},\n   {'unit': '臺北市政府兵役局',\n    'tel': '02-23654361',\n    'fax': '02-23673072',\n    'add': '臺北市中正區羅斯福路四段92號9樓',\n    'web': 'http://www.tcdms.taipei.gov.tw/'},\n   {'unit': '臺中市政府民政局',\n    'tel': '04-22289111',\n    'fax': '04-22202480',\n    'add': '臺中市臺中港路2段89號6樓',\n    'web': 'http://www.civil.taichung.gov.tw/'},\n   {'unit': '臺南市政府民政局',\n    'tel': '06-2991111',\n    'fax': '06-2982560',\n    'add': '臺南市安平區永華路2段6號',\n    'web': 'http://www.tainan.gov.tw/agr/default.asp'},\n   {'unit': '高雄市政府兵役局',\n    'tel': '07-3373582',\n    'fax': '07-3312241',\n    'add': '高雄市苓雅區四維3路2號4樓',\n    'web': 'http://mildp.kcg.gov.tw/index.php'},\n   {'unit': '宜蘭縣政府民政處',\n    'tel': '03-9251000#1680',\n    'fax': '03-9332434',\n    'add': '宜蘭縣宜蘭市縣政北路1號3樓',\n    'web': 'http://civil.e-land.gov.tw/releaseRedirect.do?unitID=102&pageID=9297'},\n   {'unit': '桃園縣政府民政局',\n    'tel': '03-3322101',\n    'fax': '03-3364817',\n    'add': '桃園縣桃園市縣府路1號',\n    'web': 'http://cab.tycg.gov.tw/'},\n   {'unit': '新竹縣政府民政處',\n    'tel': '03-5518101#268',\n    'fax': '03-5513672',\n    'add': '新竹縣竹北市光明六路10號',\n    'web': 'http://web.hsinchu.gov.tw/civil/'},\n   {'unit': '苗栗縣政府民政處',\n    'tel': '037-322150',\n    'fax': '037-354593',\n    'add': '苗栗縣苗栗市縣府路100號',\n    'web': 'http://www.miaoli.gov.tw/civil_affairs/index.php'},\n   {'unit': '彰化縣政府民政處',\n    'tel': '04-7222151#0122',\n    'fax': '04-7293510',\n    'add': '彰化縣彰化市中山路二段416號7樓',\n    'web': 'http://www.chcg.gov.tw/civil/00home/index1.asp'},\n   {'unit': '南投縣政府民政處',\n    'tel': '049-2222106',\n    'fax': '049-2238404',\n    'add': '南投縣南投市中興路660號',\n    'web': 'http://www.nantou.gov.tw/big5/index.asp?dptid=376480000AU100000'},\n   {'unit': '雲林縣政府民政處',\n    'tel': '05-5322154',\n    'fax': '05-5352041',\n    'add': '雲林縣斗六市雲林路二段515號',\n    'web': 'http://www4.yunlin.gov.tw/civil/'},\n   {'unit': '嘉義縣政府民政處',\n    'tel': '05-3620123#460',\n    'fax': '05-3620399',\n    'add': '嘉義縣太保市祥和新村祥和一路東段1號',\n    'web': 'http://www1.cyhg.gov.tw/civil/chinese/'},\n   {'unit': '屏東縣政府民政處',\n    'tel': '08-7324147',\n    'fax': '08-7331538',\n    'add': '屏東縣屏東市自由路527號',\n    'web': 'http://www.pthg.gov.tw/plancab/Index.aspx'},\n   {'unit': '臺東縣政府民政處',\n    'tel': '089-326141',\n    'fax': '089-340560',\n    'add': '台東縣台東市中山路276號',\n    'web': 'http://www.taitung.gov.tw/Civil/index.aspx'},\n   {'unit': '花蓮縣政府民政處',\n    'tel': '03-8232047',\n    'fax': '03-8230576',\n    'add': '花蓮縣花蓮市府後路6號',\n    'web': 'http://ca.hl.gov.tw/bin/home.php'},\n   {'unit': '澎湖縣政府民政處',\n    'tel': '06-9274400',\n    'fax': '06-9274701',\n    'add': '澎湖縣馬公市治平路32號',\n    'web': 'http://www.penghu.gov.tw/civil/'},\n   {'unit': '基隆市政府民政處',\n    'tel': '02-24201122',\n    'fax': '02-24668739',\n    'add': '基隆市中正區正信路205號2樓',\n    'web': 'http://www.klcg.gov.tw/civil/'},\n   {'unit': '新竹市政府民政處',\n    'tel': '03-5216121#314',\n    'fax': '03-5214703',\n    'add': '新竹市中正路120號',\n    'web': 'http://dep-civil.hccg.gov.tw/web/Home?FP=1064'},\n   {'unit': '嘉義市政府民政處',\n    'tel': '05-2254321',\n    'fax': '05-2259885',\n    'add': '嘉義市中山路199號',\n    'web': 'http://www.chiayi.gov.tw/web/civil/index.asp'},\n   {'unit': '金門縣政府民政局',\n    'tel': '082-325753',\n    'fax': '082-322613',\n    'add': '金門縣金城鎮民生路60號',\n    'web': 'http://www.kinmen.gov.tw/Layout/sub_A/index.aspx?frame=3'},\n   {'unit': '連江縣政府民政局',\n    'tel': '0836-22485',\n    'fax': '0836-22209',\n    'add': '連江縣南竿鄉介壽村76號',\n    'web': 'http://www.matsu.gov.tw/2008web/governor_index.php?id=civilaffairbureau'}]}}"
     },
     "execution_count": 9,
     "metadata": {},
     "output_type": "execute_result"
    }
   ],
   "source": [
    "payload = {'key1': 'value1', 'key2': 'value2'}\n",
    "r = requests.get(\"https://od.moi.gov.tw/api/v1/rest/datastore/301110000A-000009-002\", params=payload)\n",
    "json.loads(r.text)"
   ]
  },
  {
   "cell_type": "code",
   "execution_count": null,
   "metadata": {},
   "outputs": [],
   "source": []
  }
 ]
}