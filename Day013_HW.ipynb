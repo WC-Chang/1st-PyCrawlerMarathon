{
 "nbformat": 4,
 "nbformat_minor": 2,
 "metadata": {
  "language_info": {
   "name": "python",
   "codemirror_mode": {
    "name": "ipython",
    "version": 3
   },
   "version": "3.7.4"
  },
  "orig_nbformat": 2,
  "file_extension": ".py",
  "mimetype": "text/x-python",
  "name": "python",
  "npconvert_exporter": "python",
  "pygments_lexer": "ipython3",
  "version": 3
 },
 "cells": [
  {
   "cell_type": "code",
   "execution_count": 2,
   "metadata": {},
   "outputs": [
    {
     "name": "stdout",
     "output_type": "stream",
     "text": "標題: [外絮] Kuzma談友誼:大家都知道我跟LBJ很麻吉\n作者:currykukuo (陳菊濕汗)\n時間:Sun Dec 29 14:54:22 2019\n標題: [情報] Rivers:Leonard賽前感到不適，球隊裡很多\n作者:bbbyes123 (冬日將至)\n時間:Sun Dec 29 14:57:23 2019\n標題: [花邊] Doncic談被推倒在地：就只是個對抗激烈枋\n作者:melman87 (長頸男)\n時間:Sun Dec 29 15:21:57 2019\n標題: [討論] nba球員被記者問到腦羞的例子多嗎?\n作者:drosyo (digbick)\n時間:Sun Dec 29 15:22:19 2019\n標題: [情報] 紐約郵報票選十大經典時刻　「林來瘋」\n作者:fukawa947 (交大薛之謙)\n時間:Sun Dec 29 15:34:29 2019\n標題: [情報] LBJ:Kuzma很有效率 我很喜歡\n作者:currykukuo (陳菊濕汗)\n時間:Sun Dec 29 15:44:14 2019\n標題: [新聞]本季2戰勇士寫歷史紀錄 柯爾拿柯瑞類比 \n作者:sodistrues (true)\n時間:Sun Dec 29 16:19:37 2019\n標題: Re: [討論]為何黃種人無法像白人出一堆nba球員?\n作者:hass231470 (hello)\n時間:Sun Dec 29 16:24:58 2019\n標題: [討論] 為什麼JOJO最後不傳球?\n作者:Ayanami5566 (綾波五六)\n時間:Sun Dec 29 16:25:24 2019\n標題: [花邊] 尼克-楊：每支季後賽球隊都需要一位克拉\n作者:s27052705 (小飽)\n時間:Sun Dec 29 17:03:17 2019\n標題: [情報] 可愛: 流感有影響但與球隊表現無關 我們\n作者:manuginobii (做愛校 果真累人)\n時間:Sun Dec 29 18:57:15 2019\n標題: [花邊] 以為贏了! 把球拋進觀眾席 羅齊爾賠掉勝利還領2.5萬美元罰單\n作者:thnlkj0665 (灰色地帶)\n時間:Sun Dec 29 18:57:01 2019\n標題: [新聞] 退拓荒者止4連敗 湖人主帥歸功替補做出貢\n作者:xxxx5566 (潮哥56)\n時間:Sun Dec 29 19:04:41 2019\n標題: [情報] NBA Standings (Dec. 29, 2019)  \n作者:a78998042a (Benjimin)\n時間:Sun Dec 29 19:18:20 2019\n標題: [情報] Spo：球隊的強硬氣質要歸功於Butler\n作者:NSYSUheng (Pain)\n時間:Sun Dec 29 19:57:07 2019\n標題: [討論] 以現行NBA的規則來看這兩球有無走步\n作者:AIRLIN ()\n時間:Sun Dec 29 20:39:26 2019\n標題: [情報] ★今日排名(2019.12.29)★\n標題: Re: [討論]為何黃種人無法像白人出一堆nba球員?\n作者:rial (deoo)\n時間:Sun Dec 29 22:14:37 2019\n標題: [公告] 板規v6.7\n標題: [公告] 樂透取消及未來不再開啟樂透\n作者:Vedan (味丹)\n時間:Mon Jun 24 15:08:02 2019\n標題: [公告] 版主上任相關事項 \n作者:qazwsx879345 (Rajon Rondo)\n時間:Fri Oct 25 10:44:03 2019\n標題: [情報] SEASON Schedule 賽程 December 19–20\n作者:JerroLi (銀色小刀)\n時間:Fri Nov 29 00:46:01 2019\n"
    }
   ],
   "source": [
    "import requests\n",
    "from bs4 import BeautifulSoup\n",
    "\n",
    "url= \"https://www.ptt.cc/bbs/NBA/index.html\"\n",
    "r= requests.get(url)\n",
    "\n",
    "soup = BeautifulSoup(r.text, \"html5lib\")\n",
    "\n",
    "for d in soup.find_all(class_=\"title\"):\n",
    "    print(\"標題:\",d.text.replace(\"\\t\", \"\").replace(\"\\n\", \"\"))\n",
    "    try:\n",
    "        r = BeautifulSoup(requests.get(\"https://www.ptt.cc\"+d.find(\"a\")[\"href\"]).text, \"html5lib\")\n",
    "        print(\"作者:\" + r.find(class_=\"article-meta-value\").text)\n",
    "        print(\"時間:\" + r.find(class_=\"article-meta-tag\",string=\"時間\").next_sibling.string)\n",
    "    except:\n",
    "        continue"
   ]
  },
  {
   "cell_type": "code",
   "execution_count": 3,
   "metadata": {},
   "outputs": [
    {
     "name": "stdout",
     "output_type": "stream",
     "text": "標題: [轉錄]Lyotard 對於太陽板討論串的結論\n作者:Price (Price)\n時間:Sun May 16 01:54:33 2004\n標題: [公告] 請停止一切關於本次活動的發言\n作者:Price (Price)\n時間:Mon May 24 00:43:00 2004\n標題: [轉錄]跟之前那篇比起來 我覺得這篇也應該轉過來\n作者:Frankaze (神采風華)\n時間:Tue Jun  8 01:16:45 2004\n標題: [轉錄]再轉一篇好文來\n作者:Frankaze (神采風華)\n時間:Tue Jun  8 09:02:23 2004\n標題: [轉錄][情報] 夏洛特山貓系列\n作者:Price (Price)\n時間:Thu Jun 10 00:39:35 2004\n標題: [轉錄]Re: [心得] 真是受不了糗爺....\n作者:Price (Price)\n時間:Thu Jun 10 00:51:35 2004\n標題: [轉錄]總冠軍賽NO.2觀後感\n作者:Price (Price)\n時間:Thu Jun 10 12:05:07 2004\n標題: [心得] Rasheed Wallace\n作者:AmuroNamie (原來太嗨真的會失眠^___^)\n時間:Fri Jun 11 15:06:09 2004\n標題: 掌控球賽的男人\n作者:toptree (  )\n時間:Sat Jun 12 07:13:04 2004\n標題: [閒聊] 說說2004季後賽名場面回顧\n作者:skchang (3EB板開板囉！)\n時間:Sat Jun 12 13:21:49 2004\n標題: [心得] 其實說穿了 就是活塞的防守太可怕了\n作者:shineup ()\n時間:Sat Jun 12 13:12:47 2004\n標題: Re: [閒聊] 說說2004季後賽名場面回顧\n作者:cOvi (喵~)\n時間:Sat Jun 12 16:43:07 2004\n標題: Re: [閒聊] 說說2004季後賽名場面回顧\n作者:ykshih (￼N￼Ns)\n時間:Sat Jun 12 17:26:37 2004\n標題: Re: [閒聊] 說說2004季後賽名場面回顧\n作者:Frankaze (神采風華)\n時間:Sat Jun 12 18:34:46 2004\n標題: [轉錄]Re: 總冠軍賽NO.3觀後感\n作者:Price (Price)\n時間:Mon Jun 14 02:18:52 2004\n標題: [轉錄]Re: 總冠軍賽NO.3觀後感\n作者:Frankaze (神采風華)\n時間:Mon Jun 14 02:34:33 2004\n標題: Re: [轉錄]Re: 總冠軍賽NO.3觀後感\n作者:star1 (第一次魔術表演不算成功)\n時間:Mon Jun 14 07:16:30 2004\n標題: Re: [轉錄]Re: 總冠軍賽NO.3觀後感\n作者:coldspring (笑笑)\n時間:Mon Jun 14 09:24:57 2004\n標題: Re: Kobe is frustrated...\n作者:airbear (地圖)\n時間:Mon Jun 14 12:56:14 2004\n標題: Re: [轉錄]Re: 總冠軍賽NO.3觀後感\n作者:pennykidd (andre)\n時間:Mon Jun 14 22:07:01 2004\n"
    }
   ],
   "source": [
    "import requests\n",
    "from bs4 import BeautifulSoup\n",
    "\n",
    "url= \"https://www.ptt.cc/bbs/NBA/index1.html\"\n",
    "r= requests.get(url)\n",
    "\n",
    "soup= BeautifulSoup(r.text, \"html5lib\")\n",
    "\n",
    "for d in soup.find_all(class_=\"title\"):\n",
    "    print(\"標題:\",d.text.replace(\"\\t\", \"\").replace(\"\\n\", \"\"))\n",
    "    try:\n",
    "        r= BeautifulSoup(requests.get(\"https://www.ptt.cc\"+d.find(\"a\")[\"href\"]).text, \"html5lib\")\n",
    "        print(\"作者:\" + r.find(class_=\"article-meta-value\").text)\n",
    "        print(\"時間:\" + r.find(class_=\"article-meta-tag\",string=\"時間\").next_sibling.string)\n",
    "    except:\n",
    "        continue"
   ]
  },
  {
   "cell_type": "code",
   "execution_count": 10,
   "metadata": {},
   "outputs": [
    {
     "name": "stdout",
     "output_type": "stream",
     "text": "Author: andrewkuo Title : [新聞] 俄羅斯強人普京執政20年：從克格勃到克 Time : Sun Dec 29 22:18:04 2019\nAuthor: barber Title : Re: [爆卦] 韓國瑜講太爽 爆粗口啦!! Time : Sun Dec 29 22:18:20 2019\nAuthor: fukawa947 Title : [新聞] 嗆蔡英文！韓國瑜：要不是網軍　今天賴清 Time : Sun Dec 29 22:21:02 2019\nAuthor: asynchronous Title : [新聞] 韓國瑜越講越激動脫西裝 喊「六塊肌」計 Time : Sun Dec 29 22:21:42 2019\nAuthor: l23l23 Title : Re: [新聞] 不滿綠營下架吳斯懷 蔡正元：林昶佐閃尿 Time : Sun Dec 29 22:21:42 2019\nAuthor: iversonman Title : Re: [新聞] 蔡壁如：學姐是夜市殺手 我是菜市場殺手 Time : Sun Dec 29 22:23:40 2019\nAuthor: arsonlolita Title : [公告] 八卦板板規(2019.08.21) Time : Wed Aug 21 08:33:39 2019\nAuthor: arsonlolita Title : [協尋] 基隆市七堵區八德路段6號 車禍昏迷  Time : Tue Dec 24 13:59:43 2019\nAuthor: xraven Title : [協尋] 友人妹妹失蹤 代po Time : Fri Dec 20 01:01:05 2019\nAuthor: dsin1010925 Title : ［協尋］12/23南下國道一火燒車事故行車紀錄器 Time : Thu Dec 26 23:47:15 2019\nAuthor: Bignana Title : [公告] 一劍無悔，十二月置底閒聊文 Time : Mon Dec  2 23:13:15 2019\n"
    }
   ],
   "source": [
    "import requests\n",
    "from bs4 import BeautifulSoup\n",
    "url = \"https://www.ptt.cc/bbs/Gossiping/index.html\"\n",
    "r = requests.get(url , cookies = {\"over18\":\"1\"})\n",
    "soup = BeautifulSoup(r.text , \"html5lib\")\n",
    "for i in soup.find_all(class_= \"r-ent\"):\n",
    "    try:\n",
    "        \n",
    "        title = i.find_all(class_  = \"title\")[0].text.replace(\"\\n\",\"\").replace(\"\\t\",\"\")     \n",
    "        url = \"https://www.ptt.cc\"+ i.find_all(class_ = \"title\")[0].find_all(\"a\")[0][\"href\"]\n",
    "        r = requests.get(url , cookies = {'over18':'1'})\n",
    "        soupp = BeautifulSoup(r.text , 'html5lib')\n",
    "        print(f'Author: {i.find_all(class_ = \"author\")[0].text} Title : {title} Time : {soupp.find_all(class_ = \"article-meta-value\")[3].text}')\n",
    "    except:\n",
    "        continue"
   ]
  },
  {
   "cell_type": "code",
   "execution_count": null,
   "metadata": {},
   "outputs": [],
   "source": []
  }
 ]
}