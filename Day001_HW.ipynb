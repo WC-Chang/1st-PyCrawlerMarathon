{
 "nbformat": 4,
 "nbformat_minor": 2,
 "metadata": {
  "language_info": {
   "name": "python",
   "codemirror_mode": {
    "name": "ipython",
    "version": 3
   },
   "version": "3.7.4"
  },
  "orig_nbformat": 2,
  "file_extension": ".py",
  "mimetype": "text/x-python",
  "name": "python",
  "npconvert_exporter": "python",
  "pygments_lexer": "ipython3",
  "version": 3
 },
 "cells": [
  {
   "cell_type": "code",
   "execution_count": 2,
   "metadata": {},
   "outputs": [
    {
     "data": {
      "text/plain": "('./Homework.txt', <http.client.HTTPMessage at 0x229579b7d88>)"
     },
     "execution_count": 2,
     "metadata": {},
     "output_type": "execute_result"
    }
   ],
   "source": [
    "from urllib.request import urlretrieve\n",
    "urlretrieve (\"https://www.w3.org/TR/PNG/iso_8859-1.txt\", \"./Homework.txt\")"
   ]
  },
  {
   "cell_type": "code",
   "execution_count": 11,
   "metadata": {},
   "outputs": [
    {
     "name": "stdout",
     "output_type": "stream",
     "text": "[O] 資料夾內有 Homework.txt 檔名之檔案\n"
    }
   ],
   "source": [
    "import os, sys\n",
    "dirs = os.listdir( './' )\n",
    "\n",
    "if 'Homework.txt' in dirs:\n",
    "    print('[O] 資料夾內有 Homework.txt 檔名之檔案')\n",
    "else:\n",
    "    print('[X] 資料夾沒有 Homework.txt 檔名之檔案')"
   ]
  },
  {
   "cell_type": "code",
   "execution_count": 12,
   "metadata": {},
   "outputs": [],
   "source": [
    "fh = open(\"Homework.txt\", \"w\")\n",
    "f = fh.write(\"Hello World\")\n",
    "fh.close()"
   ]
  },
  {
   "cell_type": "code",
   "execution_count": 13,
   "metadata": {},
   "outputs": [
    {
     "name": "stdout",
     "output_type": "stream",
     "text": "11\n"
    }
   ],
   "source": [
    "fh = open(\"Homework.txt\", \"r\")\n",
    "f = fh.read()\n",
    "fh.close()\n",
    "x=len(f)\n",
    "print(x)"
   ]
  }
 ]
}