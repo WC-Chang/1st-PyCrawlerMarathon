{
 "nbformat": 4,
 "nbformat_minor": 2,
 "metadata": {
  "language_info": {
   "name": "python",
   "codemirror_mode": {
    "name": "ipython",
    "version": 3
   },
   "version": "3.7.4"
  },
  "orig_nbformat": 2,
  "file_extension": ".py",
  "mimetype": "text/x-python",
  "name": "python",
  "npconvert_exporter": "python",
  "pygments_lexer": "ipython3",
  "version": 3
 },
 "cells": [
  {
   "cell_type": "code",
   "execution_count": 18,
   "metadata": {},
   "outputs": [
    {
     "name": "stdout",
     "output_type": "stream",
     "text": "<class 'str'>\n<class 'bs4.BeautifulSoup'>\n"
    }
   ],
   "source": [
    "import requests\n",
    "from bs4 import BeautifulSoup\n",
    "\n",
    "url = \"https://www.dcard.tw/f\"\n",
    "\n",
    "r = requests.get(url)\n",
    "r.encoding = \"utf-8\"\n",
    "print(type(r.text))\n",
    "soup = BeautifulSoup(r.text, \"html.parser\")\n",
    "soup\n",
    "print(type(soup))"
   ]
  },
  {
   "cell_type": "code",
   "execution_count": 9,
   "metadata": {},
   "outputs": [
    {
     "name": "stdout",
     "output_type": "stream",
     "text": "Collecting grab\n  Using cached https://files.pythonhosted.org/packages/26/87/c0b939da311bed38c0c073fd61675cfbe4ba585c2a04370a5b7e106a2639/grab-0.6.41.tar.gz\nCollecting pycurl\n  Downloading https://files.pythonhosted.org/packages/ac/b3/0f3979633b7890bab6098d84c84467030b807a1e2b31f5d30103af5a71ca/pycurl-7.43.0.3.tar.gz (215kB)\n    ERROR: Command errored out with exit status 10:\n     command: 'D:\\tool\\Anaconda\\python.exe' -c 'import sys, setuptools, tokenize; sys.argv[0] = '\"'\"'C:\\\\Users\\\\user\\\\AppData\\\\Local\\\\Temp\\\\pip-install-0gdpm_71\\\\pycurl\\\\setup.py'\"'\"'; __file__='\"'\"'C:\\\\Users\\\\user\\\\AppData\\\\Local\\\\Temp\\\\pip-install-0gdpm_71\\\\pycurl\\\\setup.py'\"'\"';f=getattr(tokenize, '\"'\"'open'\"'\"', open)(__file__);code=f.read().replace('\"'\"'\\r\\n'\"'\"', '\"'\"'\\n'\"'\"');f.close();exec(compile(code, __file__, '\"'\"'exec'\"'\"'))' egg_info --egg-base pip-egg-info\n         cwd: C:\\Users\\user\\AppData\\Local\\Temp\\pip-install-0gdpm_71\\pycurl\\\n    Complete output (1 lines):\n    Please specify --curl-dir=/path/to/built/libcurl\n    ----------------------------------------\nERROR: Command errored out with exit status 10: python setup.py egg_info Check the logs for full command output.\n"
    }
   ],
   "source": [
    "!pip install grab --ignore-installed pycurl"
   ]
  },
  {
   "cell_type": "code",
   "execution_count": 20,
   "metadata": {},
   "outputs": [
    {
     "name": "stdout",
     "output_type": "stream",
     "text": "<class 'bytes'>\n<h3 class=\"Title__Text-v196i6-0 gmfDU\">謝和弦，你的素質真棒</h3><h3 class=\"Title__Text-v196i6-0 gmfDU\">在客廳愛愛被老母發現（微西斯）</h3><h3 class=\"Title__Text-v196i6-0 gmfDU\">二更  刺青分享「我們」的故事</h3><h3 class=\"Title__Text-v196i6-0 gmfDU\">燒了100W支好香才遇得到ㄉ人</h3><h3 class=\"Title__Text-v196i6-0 gmfDU\">社團咖熱血物語——✨社團爆爆✨，快來加入成為那個咖😎</h3><h3 class=\"Title__Text-v196i6-0 gmfDU\">謝和弦真的很脫序</h3><h3 class=\"Title__Text-v196i6-0 gmfDU\">《因為脫褲子得到男友》-男友篇</h3><h3 class=\"Title__Text-v196i6-0 gmfDU\">就這樣走了...孝子上班途中車禍亡 父悲痛掛看板找真相</h3><h3 class=\"Title__Text-v196i6-0 gmfDU\">你不是好狗狗！你是最棒的狗狗！</h3><h3 class=\"Title__Text-v196i6-0 gmfDU\">文長）別買淘寶、謹慎買衣</h3><h3 class=\"Title__Text-v196i6-0 gmfDU\">#第一張有恐怖圖 你笑起來好可愛</h3><h3 class=\"Title__Text-v196i6-0 gmfDU\">喜歡一個人是什麼感覺</h3><h3 class=\"Title__Text-v196i6-0 gmfDU\">這卡司真的重量級</h3><h3 class=\"Title__Text-v196i6-0 gmfDU\">謝和弦到底在幹嘛</h3><h3 class=\"Title__Text-v196i6-0 gmfDU\">居然是消失好久的謝博安</h3><h3 class=\"Title__Text-v196i6-0 gmfDU\">不是啊 你要演戲你要先說</h3><h3 class=\"Title__Text-v196i6-0 gmfDU\">CL真的很大方</h3><h3 class=\"Title__Text-v196i6-0 gmfDU\">被暖哭是什麼感覺 （二更</h3><h3 class=\"Title__Text-v196i6-0 gmfDU\">生理期發現男友真實的樣子</h3><h3 class=\"Title__Text-v196i6-0 gmfDU\">小眼睛跟小眼睛控都進來</h3><h3 class=\"Title__Text-v196i6-0 gmfDU\">感人的出櫃居然發生在我身上</h3><h3 class=\"Title__Text-v196i6-0 gmfDU\">我其實很擔心謝和弦跟她老婆</h3><h3 class=\"Title__Text-v196i6-0 gmfDU\">快被國民黨笑死</h3><h3 class=\"Title__Text-v196i6-0 gmfDU\">更🔥FreshO2Xweareatiff聯名超美奶茶色☕️</h3><h3 class=\"Title__Text-v196i6-0 gmfDU\">輝人被騷擾😡</h3><h3 class=\"Title__Text-v196i6-0 gmfDU\">自以為的幽默，踐踏大家的好意</h3><h3 class=\"Title__Text-v196i6-0 gmfDU\">淘寶 雙人內褲</h3><h3 class=\"Title__Text-v196i6-0 gmfDU\">🙀淘寶真的有賣『死人衣』嗎？🙀</h3><h3 class=\"Title__Text-v196i6-0 gmfDU\">屈臣氏 清貨清到爆!!sofina超級殺</h3><h3 class=\"Title__Text-v196i6-0 gmfDU\">你真的考慮好懷孕當媽媽了嗎？((紀錄文</h3><h3 class=\"Title__Text-v196i6-0 gmfDU\">SM全球練習生徵選-台灣場心得⭐</h3>\n<class 'pyquery.pyquery.PyQuery'>\n"
    }
   ],
   "source": [
    "import sys \n",
    "sys.path.append('c://users/user/appdata/local/programs/python/python38-32/lib/site-packages')\n",
    "from grab import Grab\n",
    "from pyquery import PyQuery as pq\n",
    "\n",
    "g = Grab()\n",
    "resp = g.go(\"https://www.dcard.tw/f\")\n",
    "resp.body\n",
    "print(type(resp.body))\n",
    "doc = pq(resp.body).find(\"h3\")\n",
    "print(doc)\n",
    "print(type(doc))"
   ]
  },
  {
   "cell_type": "code",
   "execution_count": null,
   "metadata": {},
   "outputs": [],
   "source": [
    "# 將之前用 requests + beatifulsoup 實作的方式，改寫成 grab + pyquery，並且比較有哪些地方不同?\n"
   ]
  }
 ]
}