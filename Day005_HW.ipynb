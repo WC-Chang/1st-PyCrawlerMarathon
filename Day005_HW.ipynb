{
 "nbformat": 4,
 "nbformat_minor": 2,
 "metadata": {
  "language_info": {
   "name": "python",
   "codemirror_mode": {
    "name": "ipython",
    "version": 3
   },
   "version": "3.7.4"
  },
  "orig_nbformat": 2,
  "file_extension": ".py",
  "mimetype": "text/x-python",
  "name": "python",
  "npconvert_exporter": "python",
  "pygments_lexer": "ipython3",
  "version": 3
 },
 "cells": [
  {
   "cell_type": "code",
   "execution_count": 10,
   "metadata": {},
   "outputs": [
    {
     "name": "stdout",
     "output_type": "stream",
     "text": "回傳資料: 30 筆\n欄位: dict_keys(['id', 'title', 'excerpt', 'anonymousSchool', 'anonymousDepartment', 'pinned', 'forumId', 'replyId', 'createdAt', 'updatedAt', 'commentCount', 'likeCount', 'withNickname', 'tags', 'topics', 'meta', 'forumName', 'forumAlias', 'gender', 'school', 'replyTitle', 'mediaMeta', 'reactions', 'hidden', 'customStyle', 'isSuspiciousAccount', 'layout', 'withImages', 'withVideos', 'media', 'reportReasonText', 'postAvatar'])\n"
    }
   ],
   "source": [
    "# 1.這個 API 一次會回傳幾筆資料？每一筆資料包含哪些欄位？\n",
    "import requests\n",
    "import json\n",
    "# 想要爬資料的目標網址\n",
    "r = requests.get('https://www.dcard.tw/_api/forums/pet/posts?popular=true')\n",
    "# 模擬發送請求的動作\n",
    "response = r.text\n",
    "response\n",
    "\n",
    "data=json.loads(response)\n",
    "print(\"回傳資料:\",len(data),\"筆\")\n",
    "print(\"欄位:\",data[0].keys())"
   ]
  },
  {
   "cell_type": "code",
   "execution_count": 18,
   "metadata": {},
   "outputs": [
    {
     "name": "stdout",
     "output_type": "stream",
     "text": "標題: 這些狗你認識嗎😍\n貼文時間: 2019-11-28T04:08:18.539Z\n留言人數: 17\n按讚人數: 569\n-\n標題: 不要被薩摩耶給騙了！\n貼文時間: 2019-11-29T00:25:38.826Z\n留言人數: 18\n按讚人數: 420\n-\n標題: 充滿柴柴的人生❤️\n貼文時間: 2019-11-28T07:19:45.391Z\n留言人數: 3\n按讚人數: 208\n-\n標題: #圖多 偷看🐹上廁所......\n貼文時間: 2019-11-28T13:44:17.224Z\n留言人數: 14\n按讚人數: 178\n-\n標題: 請問這樣算不算虐貓\n貼文時間: 2019-11-28T09:04:40.825Z\n留言人數: 20\n按讚人數: 123\n-\n標題: 沒有責任感根本沒資格養寵物\n貼文時間: 2019-11-28T11:47:21.176Z\n留言人數: 8\n按讚人數: 67\n-\n標題: 兄弟貓🧐\n貼文時間: 2019-11-28T12:25:11.285Z\n留言人數: 3\n按讚人數: 66\n-\n標題: 紙袋破壞王🏆\n貼文時間: 2019-11-28T09:43:33.709Z\n留言人數: 3\n按讚人數: 51\n-\n標題: #圖 柴柴 你能懂我的明白嗎？\n貼文時間: 2019-11-28T16:22:31.895Z\n留言人數: 4\n按讚人數: 50\n-\n標題: 幼貓送養🐱\n貼文時間: 2019-11-28T13:38:34.117Z\n留言人數: 5\n按讚人數: 38\n-\n標題: 高科大校板的遺失倉鼠\n貼文時間: 2019-11-28T05:23:12.530Z\n留言人數: 1\n按讚人數: 36\n-\n標題: 天冷怎麼辦ಥ_ಥ #柯基#圖多\n貼文時間: 2019-11-28T15:47:50.708Z\n留言人數: 0\n按讚人數: 34\n-\n標題: 我竟然被我家ㄉ狗鄙視！\n貼文時間: 2019-11-28T16:51:07.018Z\n留言人數: 1\n按讚人數: 29\n-\n標題: 幼貓送養文\n貼文時間: 2019-11-28T02:52:25.651Z\n留言人數: 4\n按讚人數: 28\n-\n標題: #募款 #貓 愛在街角，守護浪貓\n貼文時間: 2019-11-28T07:11:04.741Z\n留言人數: 1\n按讚人數: 25\n-\n標題: 請問有人的柴犬走失嗎？(已找到失主，謝謝大家的幫忙🙏）\n貼文時間: 2019-11-28T14:57:09.825Z\n留言人數: 3\n按讚人數: 23\n-\n標題: 貓咪教妳皮笑肉不笑🙂\n貼文時間: 2019-11-28T11:55:17.571Z\n留言人數: 1\n按讚人數: 21\n-\n標題: 你也知道要坐那\n貼文時間: 2019-11-28T17:00:22.755Z\n留言人數: 3\n按讚人數: 20\n-\n標題: 求吸鴨地點\n貼文時間: 2019-11-28T03:29:49.177Z\n留言人數: 11\n按讚人數: 19\n-\n標題: 我養了一隻樹懶🦥\n貼文時間: 2019-11-28T12:18:21.317Z\n留言人數: 5\n按讚人數: 16\n-\n標題: 當我的貓和海豹都是一個囧臉\n貼文時間: 2019-11-28T05:35:09.787Z\n留言人數: 4\n按讚人數: 16\n-\n標題: 協尋幼犬\n貼文時間: 2019-11-28T03:29:33.883Z\n留言人數: 1\n按讚人數: 12\n-\n標題: 👻我的隱形貓貓\n貼文時間: 2019-11-28T03:34:49.818Z\n留言人數: 2\n按讚人數: 11\n-\n標題: 發現新品種貓咪！\n貼文時間: 2019-11-28T12:22:13.105Z\n留言人數: 1\n按讚人數: 7\n-\n標題: 問貓貓的帳號\n貼文時間: 2019-11-28T11:30:50.129Z\n留言人數: 0\n按讚人數: 7\n-\n標題: 挑戰極限的塞食物(๑˙❥˙๑)\n貼文時間: 2019-11-28T07:55:21.256Z\n留言人數: 8\n按讚人數: 7\n-\n標題: 走失狗狗\n貼文時間: 2019-11-28T03:23:31.964Z\n留言人數: 1\n按讚人數: 7\n-\n標題: 我家柴犬一系列照片\n貼文時間: 2019-11-29T05:02:04.820Z\n留言人數: 0\n按讚人數: 6\n-\n標題: 就是你！！！我的菜！！！\n貼文時間: 2019-11-29T03:10:51.060Z\n留言人數: 0\n按讚人數: 6\n-\n標題: 走失的寵物狗🦮\n貼文時間: 2019-11-28T03:32:03.781Z\n留言人數: 0\n按讚人數: 6\n-\n"
    }
   ],
   "source": [
    "# 2.取出每一筆資料的「標題」、「貼文時間」、「留言人數」、「按讚人數」\n",
    "for x in data:\n",
    "    title=x[\"title\"]\n",
    "    createdAt=x[\"createdAt\"]\n",
    "    commentCount=x[\"commentCount\"]\n",
    "    likeCount=x[\"likeCount\"]\n",
    "    \n",
    "    print(\"標題:\",title)\n",
    "    print(\"貼文時間:\",createdAt)\n",
    "    print(\"留言人數:\",commentCount)\n",
    "    print(\"按讚人數:\",likeCount)\n",
    "    print(\"-\")"
   ]
  },
  {
   "cell_type": "code",
   "execution_count": 30,
   "metadata": {},
   "outputs": [
    {
     "ename": "NameError",
     "evalue": "name 'Commnet' is not defined",
     "output_type": "error",
     "traceback": [
      "\u001b[1;31m---------------------------------------------------------------------------\u001b[0m",
      "\u001b[1;31mNameError\u001b[0m                                 Traceback (most recent call last)",
      "\u001b[1;32m<ipython-input-30-6c77b24cc3c9>\u001b[0m in \u001b[0;36m<module>\u001b[1;34m\u001b[0m\n\u001b[0;32m     12\u001b[0m \u001b[1;33m\u001b[0m\u001b[0m\n\u001b[0;32m     13\u001b[0m \u001b[1;32mfor\u001b[0m \u001b[0mx\u001b[0m \u001b[1;32min\u001b[0m \u001b[0mhdata\u001b[0m\u001b[1;33m:\u001b[0m\u001b[1;33m\u001b[0m\u001b[1;33m\u001b[0m\u001b[0m\n\u001b[1;32m---> 14\u001b[1;33m     \u001b[0mCommnet\u001b[0m \u001b[1;33m+=\u001b[0m\u001b[0mx\u001b[0m\u001b[1;33m[\u001b[0m\u001b[1;34m\"commentCount\"\u001b[0m\u001b[1;33m]\u001b[0m\u001b[1;33m\u001b[0m\u001b[1;33m\u001b[0m\u001b[0m\n\u001b[0m\u001b[0;32m     15\u001b[0m     \u001b[0mLike\u001b[0m \u001b[1;33m+=\u001b[0m\u001b[0mx\u001b[0m\u001b[1;33m[\u001b[0m\u001b[1;34m\"likeCount\"\u001b[0m\u001b[1;33m]\u001b[0m\u001b[1;33m\u001b[0m\u001b[1;33m\u001b[0m\u001b[0m\n\u001b[0;32m     16\u001b[0m \u001b[0mprint\u001b[0m\u001b[1;33m(\u001b[0m\u001b[1;34m\"熱門文章平均留言人數:\"\u001b[0m\u001b[1;33m,\u001b[0m\u001b[0msumCommnet\u001b[0m\u001b[1;33m/\u001b[0m\u001b[0mlen\u001b[0m\u001b[1;33m(\u001b[0m\u001b[0mdata\u001b[0m\u001b[1;33m)\u001b[0m\u001b[1;33m)\u001b[0m\u001b[1;33m\u001b[0m\u001b[1;33m\u001b[0m\u001b[0m\n",
      "\u001b[1;31mNameError\u001b[0m: name 'Commnet' is not defined"
     ]
    }
   ],
   "source": [
    "# 3. 計算熱門/非熱門文章的「平均留言人數」與「平均按讚人數」\n",
    "\n",
    "h = requests.get(\"https://www.dcard.tw/_api/forums/pet/posts?popular=true\")\n",
    "nh = requests.get(\"https://www.dcard.tw/_api/forums/pet/posts?popular=false\")\n",
    "\n",
    "hdata=json.loads(h.text)\n",
    "nhdata=json.loads(nh.text)\n",
    "\n",
    "CommentCount=0\n",
    "LikeCount=0\n",
    "TotalCount=0\n",
    "\n",
    "for x in hdata:\n",
    "    sumCommnet +=x[\"commentCount\"]\n",
    "    sumLike +=x[\"likeCount\"]\n",
    "print(\"熱門文章平均留言人數:\",sumCommnet/len(data))\n",
    "print(\"熱門文章平均按讚人數:\",sumLike/len(data))\n",
    "\n",
    "for y in nhdata:\n",
    "    CommentCount = CommentCount + y[\"commentCount\"]\n",
    "    LikeCount = LikeCount + y[\"likeCount\"]\n",
    "    TotalCount = TotalCount + 1\n",
    "\n",
    "print(\"非熱門文章平均留言人數:\", CommentCount/TotalCount)\n",
    "print(\"非熱門文章平均按讚人數:\", LikeCount/TotalCount)"
   ]
  },
  {
   "cell_type": "code",
   "execution_count": null,
   "metadata": {},
   "outputs": [],
   "source": []
  }
 ]
}